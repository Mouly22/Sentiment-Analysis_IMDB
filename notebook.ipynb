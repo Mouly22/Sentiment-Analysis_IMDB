{
 "cells": [
  {
   "cell_type": "markdown",
   "metadata": {},
   "source": [
    "# Downloading Datas (dynamic)"
   ]
  },
  {
   "cell_type": "code",
   "execution_count": null,
   "metadata": {},
   "outputs": [],
   "source": [
    "!pip install gdown"
   ]
  },
  {
   "cell_type": "code",
   "execution_count": 1,
   "metadata": {},
   "outputs": [],
   "source": [
    "import subprocess\n",
    "import zipfile\n",
    "import os\n",
    "\n",
    "# Download the IMDb dataset\n",
    "subprocess.run(['gdown', 'https://drive.google.com/uc?id=1hyn6U44cvUNedMnzPHzHsiBgXMHFBjBw', '-O', 'imdb_440.zip'])\n",
    "\n",
    "# Extract the contents of the zip file\n",
    "zip_file_path = 'imdb_440.zip'\n",
    "extracted_dir = '.'\n",
    "\n",
    "with zipfile.ZipFile(zip_file_path, 'r') as zip_ref:\n",
    "    zip_ref.extractall(extracted_dir)\n",
    "\n",
    "# Set the dataset path\n",
    "dataset_path = os.path.join(extracted_dir, 'IMDB Dataset.csv')\n",
    "\n",
    "# Download the GloVe file\n",
    "subprocess.run(['gdown', 'https://drive.google.com/uc?id=1CLrwskD-M8ce0M5agxRjB3OhKuKiCcCn', '-O', 'glove.6B.100d.txt'])\n",
    "\n",
    "# Set the GloVe path\n",
    "glove_path = 'glove.6B.100d.txt'\n"
   ]
  },
  {
   "cell_type": "markdown",
   "metadata": {},
   "source": [
    "# Importing Dataset csv"
   ]
  },
  {
   "cell_type": "code",
   "execution_count": 2,
   "metadata": {
    "_cell_guid": "b1076dfc-b9ad-4769-8c92-a6c4dae69d19",
    "_uuid": "8f2839f25d086af736a60e9eeb907d3b93b6e0e5",
    "execution": {
     "iopub.execute_input": "2023-12-16T05:33:17.133782Z",
     "iopub.status.busy": "2023-12-16T05:33:17.133368Z",
     "iopub.status.idle": "2023-12-16T05:33:19.117498Z",
     "shell.execute_reply": "2023-12-16T05:33:19.116325Z",
     "shell.execute_reply.started": "2023-12-16T05:33:17.133745Z"
    }
   },
   "outputs": [
    {
     "name": "stdout",
     "output_type": "stream",
     "text": [
      "review       One of the other reviewers has mentioned that ...\n",
      "sentiment                                             positive\n",
      "Name: 0, dtype: object\n"
     ]
    }
   ],
   "source": [
    "import pandas as pd\n",
    "\n",
    "# Update the file path to your CSV file\n",
    "filepath_dict = {'yelp': 'IMDB Dataset.csv'}\n",
    "\n",
    "df_list = []\n",
    "for source, filepath in filepath_dict.items():\n",
    "    df = pd.read_csv(filepath)  # Use pandas read_csv directly without specifying names and sep\n",
    "    df_list.append(df)\n",
    "\n",
    "df = pd.concat(df_list)\n",
    "print(df.iloc[0]) "
   ]
  },
  {
   "cell_type": "code",
   "execution_count": 3,
   "metadata": {
    "execution": {
     "iopub.execute_input": "2023-12-16T05:33:19.119959Z",
     "iopub.status.busy": "2023-12-16T05:33:19.119542Z",
     "iopub.status.idle": "2023-12-16T05:33:19.13764Z",
     "shell.execute_reply": "2023-12-16T05:33:19.13629Z",
     "shell.execute_reply.started": "2023-12-16T05:33:19.119924Z"
    }
   },
   "outputs": [
    {
     "name": "stdout",
     "output_type": "stream",
     "text": [
      "                                                  review sentiment\n",
      "0      One of the other reviewers has mentioned that ...  positive\n",
      "1      A wonderful little production. <br /><br />The...  positive\n",
      "2      I thought this was a wonderful way to spend ti...  positive\n",
      "3      Basically there's a family where a little boy ...  negative\n",
      "4      Petter Mattei's \"Love in the Time of Money\" is...  positive\n",
      "...                                                  ...       ...\n",
      "49995  I thought this movie did a down right good job...  positive\n",
      "49996  Bad plot, bad dialogue, bad acting, idiotic di...  negative\n",
      "49997  I am a Catholic taught in parochial elementary...  negative\n",
      "49998  I'm going to have to disagree with the previou...  negative\n",
      "49999  No one expects the Star Trek movies to be high...  negative\n",
      "\n",
      "[50000 rows x 2 columns]\n"
     ]
    }
   ],
   "source": [
    "print(df)"
   ]
  },
  {
   "cell_type": "markdown",
   "metadata": {},
   "source": [
    "# Data Splitting"
   ]
  },
  {
   "cell_type": "code",
   "execution_count": 4,
   "metadata": {
    "execution": {
     "iopub.execute_input": "2023-12-16T05:33:19.13952Z",
     "iopub.status.busy": "2023-12-16T05:33:19.139168Z",
     "iopub.status.idle": "2023-12-16T05:33:20.625716Z",
     "shell.execute_reply": "2023-12-16T05:33:20.624338Z",
     "shell.execute_reply.started": "2023-12-16T05:33:19.139492Z"
    }
   },
   "outputs": [
    {
     "name": "stderr",
     "output_type": "stream",
     "text": [
      "C:\\Users\\Ikramul\\anaconda3\\lib\\site-packages\\scipy\\__init__.py:146: UserWarning: A NumPy version >=1.16.5 and <1.23.0 is required for this version of SciPy (detected version 1.26.2\n",
      "  warnings.warn(f\"A NumPy version >={np_minversion} and <{np_maxversion}\"\n"
     ]
    },
    {
     "name": "stdout",
     "output_type": "stream",
     "text": [
      "Training set shape: (40000,) (40000,)\n",
      "Testing set shape: (10000,) (10000,)\n"
     ]
    }
   ],
   "source": [
    "from sklearn.model_selection import train_test_split\n",
    "# Assuming 'review' is the feature and 'sentiment' is the target\n",
    "X = df['review']\n",
    "y = df['sentiment']\n",
    "\n",
    "# Perform train-test split (80% train, 20% test)\n",
    "X_train, X_test, y_train, y_test = train_test_split(X, y, test_size=0.2, random_state=42)\n",
    "\n",
    "# Print the shapes of the resulting sets\n",
    "print(\"Training set shape:\", X_train.shape, y_train.shape)\n",
    "print(\"Testing set shape:\", X_test.shape, y_test.shape)"
   ]
  },
  {
   "cell_type": "markdown",
   "metadata": {},
   "source": [
    "# Tokenization"
   ]
  },
  {
   "cell_type": "code",
   "execution_count": 5,
   "metadata": {
    "execution": {
     "iopub.execute_input": "2023-12-16T05:33:20.628835Z",
     "iopub.status.busy": "2023-12-16T05:33:20.628463Z",
     "iopub.status.idle": "2023-12-16T05:33:50.703397Z",
     "shell.execute_reply": "2023-12-16T05:33:50.70211Z",
     "shell.execute_reply.started": "2023-12-16T05:33:20.628807Z"
    }
   },
   "outputs": [
    {
     "name": "stdout",
     "output_type": "stream",
     "text": [
      "WARNING:tensorflow:From C:\\Users\\Ikramul\\anaconda3\\lib\\site-packages\\keras\\src\\losses.py:2976: The name tf.losses.sparse_softmax_cross_entropy is deprecated. Please use tf.compat.v1.losses.sparse_softmax_cross_entropy instead.\n",
      "\n",
      "I thought this was a wonderful way to spend time on a too hot summer weekend, sitting in the air conditioned theater and watching a light-hearted comedy. The plot is simplistic, but the dialogue is witty and the characters are likable (even the well bread suspected serial killer). While some may be disappointed when they realize this is not Match Point 2: Risk Addiction, I thought it was proof that Woody Allen is still fully in control of the style many of us have grown to love.<br /><br />This was the most I'd laughed at one of Woody's comedies in years (dare I say a decade?). While I've never been impressed with Scarlet Johanson, in this she managed to tone down her \"sexy\" image and jumped right into a average, but spirited young woman.<br /><br />This may not be the crown jewel of his career, but it was wittier than \"Devil Wears Prada\" and more interesting than \"Superman\" a great comedy to go see with friends.\n",
      "[3, 1335, 113, 62, 2836, 4, 50896, 1, 1278, 15, 14341, 4570, 2594, 20, 1716, 3950, 2, 86, 11, 6, 330, 31, 4221, 83, 5, 5721, 1354, 5, 253, 81, 1, 62, 2744, 20, 3, 18718, 36, 489, 34, 73, 5, 26, 3, 2239, 1658, 14, 69, 14, 3, 49, 650, 2, 353, 3, 6832, 1406, 6, 51, 3525, 5, 87, 14, 1, 62, 4222, 71, 64, 1, 1336, 1774, 1, 2316, 8, 24, 854, 300, 1515, 2, 86, 28, 34821, 16, 1, 1529, 12608, 12, 395, 87, 3, 315, 2, 710, 62]\n"
     ]
    }
   ],
   "source": [
    "from tensorflow.keras.preprocessing.text import Tokenizer\n",
    "from tensorflow.keras.preprocessing.sequence import pad_sequences\n",
    "import numpy as np\n",
    "\n",
    "tokenizer = Tokenizer()\n",
    "tokenizer.fit_on_texts(X_train)\n",
    "\n",
    "X_train_tokenize = tokenizer.texts_to_sequences(X_train)\n",
    "X_test_tokenize = tokenizer.texts_to_sequences(X_test)\n",
    "\n",
    "vocab_size = len(tokenizer.word_index) + 1  # Adding 1 because of reserved 0 index\n",
    "\n",
    "print(X_train[2])\n",
    "print(X_train_tokenize[2])"
   ]
  },
  {
   "cell_type": "code",
   "execution_count": 6,
   "metadata": {
    "execution": {
     "iopub.execute_input": "2023-12-16T05:33:50.705356Z",
     "iopub.status.busy": "2023-12-16T05:33:50.704716Z",
     "iopub.status.idle": "2023-12-16T05:33:50.712275Z",
     "shell.execute_reply": "2023-12-16T05:33:50.711045Z",
     "shell.execute_reply.started": "2023-12-16T05:33:50.705323Z"
    }
   },
   "outputs": [
    {
     "name": "stdout",
     "output_type": "stream",
     "text": [
      "the: 1\n",
      "all: 29\n",
      "happy: 680\n",
      "sad: 635\n"
     ]
    }
   ],
   "source": [
    "for word in ['the', 'all', 'happy', 'sad']:\n",
    "    print('{}: {}'.format(word, tokenizer.word_index[word]))"
   ]
  },
  {
   "cell_type": "markdown",
   "metadata": {
    "execution": {
     "iopub.execute_input": "2023-12-16T05:33:50.71445Z",
     "iopub.status.busy": "2023-12-16T05:33:50.713981Z",
     "iopub.status.idle": "2023-12-16T05:33:50.741596Z",
     "shell.execute_reply": "2023-12-16T05:33:50.740298Z",
     "shell.execute_reply.started": "2023-12-16T05:33:50.71441Z"
    }
   },
   "source": [
    "# Padding"
   ]
  },
  {
   "cell_type": "code",
   "execution_count": 7,
   "metadata": {},
   "outputs": [
    {
     "data": {
      "image/png": "[encoded data removed]",
      "text/plain": [
       "<Figure size 432x288 with 1 Axes>"
      ]
     },
     "metadata": {
      "needs_background": "light"
     },
     "output_type": "display_data"
    },
    {
     "name": "stdout",
     "output_type": "stream",
     "text": [
      "Average sequence length: 234.87535\n"
     ]
    }
   ],
   "source": [
    "import matplotlib.pyplot as plt\n",
    "\n",
    "# Calculate the lengths of sentences\n",
    "sentence_lengths = [len(seq) for seq in X_train_tokenize]\n",
    "\n",
    "# Plot the histogram\n",
    "plt.hist(sentence_lengths, bins=50, alpha=0.75)\n",
    "plt.axvline(x=np.mean(sentence_lengths), color='red', linestyle='dashed', linewidth=2, label='Mean Length')\n",
    "plt.title('Distribution of Sentence Lengths')\n",
    "plt.xlabel('Sentence Length')\n",
    "plt.ylabel('Frequency')\n",
    "plt.legend()\n",
    "plt.show()\n",
    "\n",
    "print(\"Average sequence length:\", np.mean(sentence_lengths))\n",
    "\n"
   ]
  },
  {
   "cell_type": "code",
   "execution_count": 8,
   "metadata": {
    "execution": {
     "iopub.execute_input": "2023-12-16T05:33:50.743461Z",
     "iopub.status.busy": "2023-12-16T05:33:50.74302Z",
     "iopub.status.idle": "2023-12-16T05:33:51.919226Z",
     "shell.execute_reply": "2023-12-16T05:33:51.917787Z",
     "shell.execute_reply.started": "2023-12-16T05:33:50.743421Z"
    }
   },
   "outputs": [
    {
     "name": "stdout",
     "output_type": "stream",
     "text": [
      "Padded sequence example:\n",
      "[  367    55  3765     3   278 10620     7     7   157  1707   187     6\n",
      "     1 11696 11505   727  1935     1  1200     4  2946 11506  3749  1828\n",
      "     2 34820   147   144     3   228     4     3   207   323     2   144\n",
      "  1083    16    88     4   132  2871  8743    18    10   153  9253    99\n",
      "     4     1  4020   302    11    17  1001    35     1 17118   496   492\n",
      "  2619   249    71    77   107   107   698 10014    60 13110    86  1047\n",
      "  1363     5   229   132    23  4360    31   138 18119   209  1154    14\n",
      "  4501  5313    31     3 26199  2386     2 50895     8 31951    11     6\n",
      "     3   445    14   624     4     1   718  2959     1  1278 16653     2\n",
      "    71  3616     1   166  1507     1  1245     5  1629     1   879  1268\n",
      "     5     1   310   140  2894     2   410   633     7     7     1   269\n",
      "     6  3553  1000     5    26    39 13694    14  1381   217    65 18120\n",
      "     2    46     6    30   219    27   193  1484     8  1101    18    10\n",
      "  4905 21668 29671    84     1   226    66   356    68    54    27     5\n",
      "  3600    15    44    21   192     5  8255     3   889  3511  1758    22\n",
      "    25     5   158   196   175     3   110    12  1652   471    75   221\n",
      "     5   325     2  3512    36    23    50    72  1889  4729    14     9\n",
      "  1393    11    19     6     3  3554  2029    16    61     1  2436   470\n",
      "   532     2     3   171  2577 18121  2761  1778     5   585     9    35\n",
      "     1  3797   450   155   205   351  3856]\n"
     ]
    }
   ],
   "source": [
    "from keras.preprocessing.sequence import pad_sequences\n",
    "\n",
    "val = 235\n",
    "\n",
    "# Pad sequences\n",
    "X_train_pad = pad_sequences(X_train_tokenize, padding='post', maxlen=val)\n",
    "X_test_pad = pad_sequences(X_test_tokenize, padding='post', maxlen=val)\n",
    "\n",
    "print(\"Padded sequence example:\")\n",
    "print(X_train_pad[0, :])\n"
   ]
  },
  {
   "cell_type": "markdown",
   "metadata": {},
   "source": [
    "# Encoding labels"
   ]
  },
  {
   "cell_type": "code",
   "execution_count": 9,
   "metadata": {},
   "outputs": [],
   "source": [
    "from sklearn.preprocessing import LabelEncoder\n",
    "label_encoder = LabelEncoder()\n",
    "y_train_encoded = label_encoder.fit_transform(y_train)\n",
    "y_test_encoded = label_encoder.fit_transform(y_test)"
   ]
  },
  {
   "cell_type": "markdown",
   "metadata": {},
   "source": [
    "# Embedding "
   ]
  },
  {
   "cell_type": "code",
   "execution_count": 10,
   "metadata": {
    "execution": {
     "iopub.execute_input": "2023-12-16T05:33:51.921365Z",
     "iopub.status.busy": "2023-12-16T05:33:51.920982Z",
     "iopub.status.idle": "2023-12-16T05:33:51.929216Z",
     "shell.execute_reply": "2023-12-16T05:33:51.927389Z",
     "shell.execute_reply.started": "2023-12-16T05:33:51.921334Z"
    }
   },
   "outputs": [],
   "source": [
    "import numpy as np\n",
    "\n",
    "def create_embedding_matrix(filepath, word_index, embedding_dim):\n",
    "    vocab_size = len(word_index) + 1\n",
    "    embedding_matrix = np.zeros((vocab_size, embedding_dim))\n",
    "\n",
    "    with open(filepath, encoding='utf-8') as f:\n",
    "        for line in f:\n",
    "            word, *vector = line.split()\n",
    "            if word in word_index:\n",
    "                idx = word_index[word]\n",
    "                embedding_matrix[idx] = np.array(vector, dtype=np.float32)[:embedding_dim]\n",
    "\n",
    "    return embedding_matrix"
   ]
  },
  {
   "cell_type": "code",
   "execution_count": 11,
   "metadata": {
    "execution": {
     "iopub.execute_input": "2023-12-16T05:33:51.931421Z",
     "iopub.status.busy": "2023-12-16T05:33:51.930991Z",
     "iopub.status.idle": "2023-12-16T05:33:58.987735Z",
     "shell.execute_reply": "2023-12-16T05:33:58.986595Z",
     "shell.execute_reply.started": "2023-12-16T05:33:51.931387Z"
    }
   },
   "outputs": [],
   "source": [
    "embedding_dim = 100\n",
    "embedding_matrix = create_embedding_matrix(\n",
    "    'glove.6B.100d.txt',\n",
    "    tokenizer.word_index, embedding_dim)"
   ]
  },
  {
   "cell_type": "code",
   "execution_count": 12,
   "metadata": {
    "execution": {
     "iopub.execute_input": "2023-12-16T05:33:58.994565Z",
     "iopub.status.busy": "2023-12-16T05:33:58.993477Z",
     "iopub.status.idle": "2023-12-16T05:33:59.035543Z",
     "shell.execute_reply": "2023-12-16T05:33:59.034348Z",
     "shell.execute_reply.started": "2023-12-16T05:33:58.994525Z"
    }
   },
   "outputs": [
    {
     "data": {
      "text/plain": [
       "0.6288508296149838"
      ]
     },
     "execution_count": 12,
     "metadata": {},
     "output_type": "execute_result"
    }
   ],
   "source": [
    "nonzero_elements = np.count_nonzero(np.count_nonzero(embedding_matrix, axis=1))\n",
    "nonzero_elements / vocab_size"
   ]
  },
  {
   "cell_type": "code",
   "execution_count": 13,
   "metadata": {
    "execution": {
     "iopub.execute_input": "2023-12-16T05:33:59.059267Z",
     "iopub.status.busy": "2023-12-16T05:33:59.058974Z",
     "iopub.status.idle": "2023-12-16T05:33:59.069469Z",
     "shell.execute_reply": "2023-12-16T05:33:59.067705Z",
     "shell.execute_reply.started": "2023-12-16T05:33:59.059227Z"
    }
   },
   "outputs": [
    {
     "data": {
      "text/plain": [
       "112281"
      ]
     },
     "execution_count": 13,
     "metadata": {},
     "output_type": "execute_result"
    }
   ],
   "source": [
    "len(embedding_matrix)"
   ]
  },
  {
   "cell_type": "markdown",
   "metadata": {
    "execution": {
     "iopub.execute_input": "2023-12-16T05:33:59.075473Z",
     "iopub.status.busy": "2023-12-16T05:33:59.075123Z",
     "iopub.status.idle": "2023-12-16T05:33:59.625361Z",
     "shell.execute_reply": "2023-12-16T05:33:59.623701Z",
     "shell.execute_reply.started": "2023-12-16T05:33:59.075442Z"
    }
   },
   "source": [
    "# Observations before traning "
   ]
  },
  {
   "cell_type": "code",
   "execution_count": 14,
   "metadata": {
    "execution": {
     "iopub.execute_input": "2023-12-16T05:33:59.627812Z",
     "iopub.status.busy": "2023-12-16T05:33:59.627361Z",
     "iopub.status.idle": "2023-12-16T05:33:59.636812Z",
     "shell.execute_reply": "2023-12-16T05:33:59.63563Z",
     "shell.execute_reply.started": "2023-12-16T05:33:59.62777Z"
    }
   },
   "outputs": [
    {
     "data": {
      "text/plain": [
       "array([[  10,   63,  423, ...,    0,    0,    0],\n",
       "       [   4, 8974,    5, ...,    7, 9050, 8494],\n",
       "       [   1,   19,  920, ...,    0,    0,    0],\n",
       "       ...,\n",
       "       [ 431,  695,  194, ...,    0,    0,    0],\n",
       "       [  14,  225,   14, ...,    0,    0,    0],\n",
       "       [  10,  212, 8343, ...,    0,    0,    0]])"
      ]
     },
     "execution_count": 14,
     "metadata": {},
     "output_type": "execute_result"
    }
   ],
   "source": [
    "X_test_pad"
   ]
  },
  {
   "cell_type": "code",
   "execution_count": 15,
   "metadata": {
    "execution": {
     "iopub.execute_input": "2023-12-16T05:33:59.639053Z",
     "iopub.status.busy": "2023-12-16T05:33:59.638576Z",
     "iopub.status.idle": "2023-12-16T05:33:59.646721Z",
     "shell.execute_reply": "2023-12-16T05:33:59.645896Z",
     "shell.execute_reply.started": "2023-12-16T05:33:59.639013Z"
    }
   },
   "outputs": [
    {
     "data": {
      "text/plain": [
       "array([[ 367,   55, 3765, ...,  205,  351, 3856],\n",
       "       [4004,   96,  195, ...,   89,  103,    9],\n",
       "       [   3, 1335,  113, ...,    0,    0,    0],\n",
       "       ...,\n",
       "       [ 793,   11,   27, ...,    0,    0,    0],\n",
       "       [  11,  352,   13, ...,    0,    0,    0],\n",
       "       [  11,    6,    3, ...,    0,    0,    0]])"
      ]
     },
     "execution_count": 15,
     "metadata": {},
     "output_type": "execute_result"
    }
   ],
   "source": [
    "X_train_pad"
   ]
  },
  {
   "cell_type": "code",
   "execution_count": 16,
   "metadata": {
    "execution": {
     "iopub.execute_input": "2023-12-16T05:33:59.648696Z",
     "iopub.status.busy": "2023-12-16T05:33:59.648082Z",
     "iopub.status.idle": "2023-12-16T05:33:59.661072Z",
     "shell.execute_reply": "2023-12-16T05:33:59.660004Z",
     "shell.execute_reply.started": "2023-12-16T05:33:59.64864Z"
    }
   },
   "outputs": [
    {
     "data": {
      "text/plain": [
       "39087    negative\n",
       "30893    negative\n",
       "45278    positive\n",
       "16398    negative\n",
       "13653    negative\n",
       "           ...   \n",
       "11284    positive\n",
       "44732    positive\n",
       "38158    negative\n",
       "860      positive\n",
       "15795    positive\n",
       "Name: sentiment, Length: 40000, dtype: object"
      ]
     },
     "execution_count": 16,
     "metadata": {},
     "output_type": "execute_result"
    }
   ],
   "source": [
    "y_train"
   ]
  },
  {
   "cell_type": "code",
   "execution_count": 17,
   "metadata": {
    "execution": {
     "iopub.execute_input": "2023-12-16T05:33:59.662781Z",
     "iopub.status.busy": "2023-12-16T05:33:59.66242Z",
     "iopub.status.idle": "2023-12-16T05:33:59.673307Z",
     "shell.execute_reply": "2023-12-16T05:33:59.672343Z",
     "shell.execute_reply.started": "2023-12-16T05:33:59.66275Z"
    }
   },
   "outputs": [
    {
     "data": {
      "text/plain": [
       "array([0, 0, 1, ..., 0, 1, 1])"
      ]
     },
     "execution_count": 17,
     "metadata": {},
     "output_type": "execute_result"
    }
   ],
   "source": [
    "y_train_encoded"
   ]
  },
  {
   "cell_type": "code",
   "execution_count": 18,
   "metadata": {
    "execution": {
     "iopub.execute_input": "2023-12-16T05:33:59.674791Z",
     "iopub.status.busy": "2023-12-16T05:33:59.674494Z",
     "iopub.status.idle": "2023-12-16T05:33:59.686758Z",
     "shell.execute_reply": "2023-12-16T05:33:59.685678Z",
     "shell.execute_reply.started": "2023-12-16T05:33:59.674765Z"
    }
   },
   "outputs": [
    {
     "data": {
      "text/plain": [
       "array([[ 367,   55, 3765, ...,  205,  351, 3856],\n",
       "       [4004,   96,  195, ...,   89,  103,    9],\n",
       "       [   3, 1335,  113, ...,    0,    0,    0],\n",
       "       ...,\n",
       "       [ 793,   11,   27, ...,    0,    0,    0],\n",
       "       [  11,  352,   13, ...,    0,    0,    0],\n",
       "       [  11,    6,    3, ...,    0,    0,    0]])"
      ]
     },
     "execution_count": 18,
     "metadata": {},
     "output_type": "execute_result"
    }
   ],
   "source": [
    "X_train_pad"
   ]
  },
  {
   "cell_type": "code",
   "execution_count": 19,
   "metadata": {
    "execution": {
     "iopub.execute_input": "2023-12-16T05:33:59.688713Z",
     "iopub.status.busy": "2023-12-16T05:33:59.68839Z",
     "iopub.status.idle": "2023-12-16T05:33:59.697183Z",
     "shell.execute_reply": "2023-12-16T05:33:59.696176Z",
     "shell.execute_reply.started": "2023-12-16T05:33:59.688684Z"
    }
   },
   "outputs": [
    {
     "data": {
      "text/plain": [
       "array([0, 0, 1, ..., 0, 1, 1])"
      ]
     },
     "execution_count": 19,
     "metadata": {},
     "output_type": "execute_result"
    }
   ],
   "source": [
    "y_train_encoded"
   ]
  },
  {
   "cell_type": "markdown",
   "metadata": {},
   "source": [
    "# Shallow Model "
   ]
  },
  {
   "cell_type": "markdown",
   "metadata": {},
   "source": [
    "## Model compiling "
   ]
  },
  {
   "cell_type": "code",
   "execution_count": 20,
   "metadata": {},
   "outputs": [
    {
     "name": "stdout",
     "output_type": "stream",
     "text": [
      "WARNING:tensorflow:From C:\\Users\\Ikramul\\anaconda3\\lib\\site-packages\\keras\\src\\backend.py:873: The name tf.get_default_graph is deprecated. Please use tf.compat.v1.get_default_graph instead.\n",
      "\n",
      "WARNING:tensorflow:From C:\\Users\\Ikramul\\anaconda3\\lib\\site-packages\\keras\\src\\optimizers\\__init__.py:309: The name tf.train.Optimizer is deprecated. Please use tf.compat.v1.train.Optimizer instead.\n",
      "\n",
      "Model: \"sequential\"\n",
      "_________________________________________________________________\n",
      " Layer (type)                Output Shape              Param #   \n",
      "=================================================================\n",
      " embedding (Embedding)       (None, 235, 100)          11228100  \n",
      "                                                                 \n",
      " flatten (Flatten)           (None, 23500)             0         \n",
      "                                                                 \n",
      " dense (Dense)               (None, 10)                235010    \n",
      "                                                                 \n",
      " dense_1 (Dense)             (None, 1)                 11        \n",
      "                                                                 \n",
      "=================================================================\n",
      "Total params: 11463121 (43.73 MB)\n",
      "Trainable params: 11463121 (43.73 MB)\n",
      "Non-trainable params: 0 (0.00 Byte)\n",
      "_________________________________________________________________\n"
     ]
    }
   ],
   "source": [
    "from keras.models import Sequential\n",
    "from keras import layers\n",
    "\n",
    "embedding_dim = 100\n",
    "\n",
    "model = Sequential()\n",
    "model.add(layers.Embedding(vocab_size, embedding_dim, weights=[embedding_matrix], input_length=val, trainable=True))\n",
    "model.add(layers.Flatten())  # Flatten the 3D tensor to 2D\n",
    "model.add(layers.Dense(10, activation='relu'))\n",
    "model.add(layers.Dense(1, activation='sigmoid'))\n",
    "model.compile(optimizer='adam',\n",
    "              loss='binary_crossentropy',\n",
    "              metrics=['accuracy'])\n",
    "model.summary()\n",
    "\n"
   ]
  },
  {
   "cell_type": "markdown",
   "metadata": {},
   "source": [
    "## Fitting "
   ]
  },
  {
   "cell_type": "code",
   "execution_count": 21,
   "metadata": {
    "execution": {
     "iopub.execute_input": "2023-12-16T05:33:59.699063Z",
     "iopub.status.busy": "2023-12-16T05:33:59.698686Z",
     "iopub.status.idle": "2023-12-16T09:15:52.79131Z",
     "shell.execute_reply": "2023-12-16T09:15:52.790216Z",
     "shell.execute_reply.started": "2023-12-16T05:33:59.699031Z"
    }
   },
   "outputs": [
    {
     "name": "stdout",
     "output_type": "stream",
     "text": [
      "Epoch 1/20\n",
      "WARNING:tensorflow:From C:\\Users\\Ikramul\\anaconda3\\lib\\site-packages\\keras\\src\\utils\\tf_utils.py:492: The name tf.ragged.RaggedTensorValue is deprecated. Please use tf.compat.v1.ragged.RaggedTensorValue instead.\n",
      "\n",
      "WARNING:tensorflow:From C:\\Users\\Ikramul\\anaconda3\\lib\\site-packages\\keras\\src\\engine\\base_layer_utils.py:384: The name tf.executing_eagerly_outside_functions is deprecated. Please use tf.compat.v1.executing_eagerly_outside_functions instead.\n",
      "\n",
      "800/800 [==============================] - 83s 103ms/step - loss: 0.5714 - accuracy: 0.7268 - val_loss: 0.3794 - val_accuracy: 0.8334\n",
      "Epoch 2/20\n",
      "800/800 [==============================] - 80s 100ms/step - loss: 0.2592 - accuracy: 0.8983 - val_loss: 0.3153 - val_accuracy: 0.8679\n",
      "Epoch 3/20\n",
      "800/800 [==============================] - 94s 118ms/step - loss: 0.0864 - accuracy: 0.9732 - val_loss: 0.3625 - val_accuracy: 0.8673\n",
      "Epoch 4/20\n",
      "800/800 [==============================] - 100s 125ms/step - loss: 0.0253 - accuracy: 0.9944 - val_loss: 0.4433 - val_accuracy: 0.8654\n",
      "Epoch 5/20\n",
      "800/800 [==============================] - 94s 117ms/step - loss: 0.0076 - accuracy: 0.9983 - val_loss: 0.5077 - val_accuracy: 0.8658\n",
      "Epoch 6/20\n",
      "800/800 [==============================] - 102s 128ms/step - loss: 0.0033 - accuracy: 0.9989 - val_loss: 0.5779 - val_accuracy: 0.8676\n",
      "Epoch 7/20\n",
      "800/800 [==============================] - 105s 131ms/step - loss: 0.0016 - accuracy: 0.9995 - val_loss: 0.6220 - val_accuracy: 0.8627\n",
      "Epoch 8/20\n",
      "800/800 [==============================] - 107s 134ms/step - loss: 6.8449e-04 - accuracy: 0.9998 - val_loss: 0.6930 - val_accuracy: 0.8616\n",
      "Epoch 9/20\n",
      "800/800 [==============================] - 87s 109ms/step - loss: 0.0127 - accuracy: 0.9959 - val_loss: 0.9113 - val_accuracy: 0.8476\n",
      "Epoch 10/20\n",
      "800/800 [==============================] - 82s 102ms/step - loss: 0.0127 - accuracy: 0.9961 - val_loss: 0.9396 - val_accuracy: 0.8547\n",
      "Epoch 11/20\n",
      "800/800 [==============================] - 82s 102ms/step - loss: 0.0012 - accuracy: 0.9997 - val_loss: 0.9443 - val_accuracy: 0.8558\n",
      "Epoch 12/20\n",
      "800/800 [==============================] - 75s 94ms/step - loss: 2.4364e-04 - accuracy: 1.0000 - val_loss: 0.9427 - val_accuracy: 0.8570\n",
      "Epoch 13/20\n",
      "800/800 [==============================] - 84s 105ms/step - loss: 5.0481e-05 - accuracy: 1.0000 - val_loss: 0.9521 - val_accuracy: 0.8574\n",
      "Epoch 14/20\n",
      "800/800 [==============================] - 89s 111ms/step - loss: 3.2236e-05 - accuracy: 1.0000 - val_loss: 0.9646 - val_accuracy: 0.8571\n",
      "Epoch 15/20\n",
      "800/800 [==============================] - 84s 105ms/step - loss: 2.3061e-05 - accuracy: 1.0000 - val_loss: 0.9725 - val_accuracy: 0.8576\n",
      "Epoch 16/20\n",
      "800/800 [==============================] - 75s 94ms/step - loss: 1.6195e-05 - accuracy: 1.0000 - val_loss: 0.9826 - val_accuracy: 0.8585\n",
      "Epoch 17/20\n",
      "800/800 [==============================] - 88s 110ms/step - loss: 1.0101e-05 - accuracy: 1.0000 - val_loss: 0.9910 - val_accuracy: 0.8593\n",
      "Epoch 18/20\n",
      "800/800 [==============================] - 88s 110ms/step - loss: 5.4613e-06 - accuracy: 1.0000 - val_loss: 1.0104 - val_accuracy: 0.8593\n",
      "Epoch 19/20\n",
      "800/800 [==============================] - 87s 109ms/step - loss: 4.4998e-06 - accuracy: 1.0000 - val_loss: 1.0367 - val_accuracy: 0.8609\n",
      "Epoch 20/20\n",
      "800/800 [==============================] - 84s 106ms/step - loss: 1.7410e-06 - accuracy: 1.0000 - val_loss: 1.0718 - val_accuracy: 0.8606\n"
     ]
    },
    {
     "data": {
      "image/png": "[encoded data removed]",
      "text/plain": [
       "<Figure size 432x288 with 1 Axes>"
      ]
     },
     "metadata": {
      "needs_background": "light"
     },
     "output_type": "display_data"
    }
   ],
   "source": [
    "from tensorflow.keras.optimizers import Adam\n",
    "from tensorflow.keras.callbacks import EarlyStopping\n",
    "\n",
    "import matplotlib.pyplot as plt\n",
    "\n",
    "import numpy as np\n",
    "import tensorflow as tf\n",
    "from sklearn.preprocessing import LabelEncoder\n",
    "from tensorflow.keras.callbacks import EarlyStopping\n",
    "\n",
    "# Train the model\n",
    "history = model.fit(\n",
    "    X_train_pad, y_train_encoded, epochs=20, verbose=True, \n",
    "    validation_split=0.2, batch_size=40)\n",
    "    \n",
    "# Plot training history\n",
    "plt.plot(history.history['accuracy'], label='Training Accuracy')\n",
    "plt.plot(history.history['val_accuracy'], label='Validation Accuracy')\n",
    "plt.xlabel('Epoch')\n",
    "plt.ylabel('Accuracy')\n",
    "plt.legend()\n",
    "plt.show()"
   ]
  },
  {
   "cell_type": "markdown",
   "metadata": {},
   "source": [
    "## Results of shallow model"
   ]
  },
  {
   "cell_type": "code",
   "execution_count": 22,
   "metadata": {
    "execution": {
     "iopub.execute_input": "2023-12-16T09:15:52.793439Z",
     "iopub.status.busy": "2023-12-16T09:15:52.792784Z",
     "iopub.status.idle": "2023-12-16T09:16:18.923422Z",
     "shell.execute_reply": "2023-12-16T09:16:18.922455Z",
     "shell.execute_reply.started": "2023-12-16T09:15:52.793399Z"
    }
   },
   "outputs": [
    {
     "name": "stdout",
     "output_type": "stream",
     "text": [
      "Training Accuracy: 0.9721\n",
      "Testing Accuracy:  0.8582\n"
     ]
    }
   ],
   "source": [
    "# Model evaluation\n",
    "loss, accuracy = model.evaluate(X_train_pad, y_train_encoded, verbose=False)\n",
    "print(\"Training Accuracy: {:.4f}\".format(accuracy))\n",
    "\n",
    "loss, accuracy = model.evaluate(X_test_pad, y_test_encoded, verbose=False)\n",
    "print(\"Testing Accuracy:  {:.4f}\".format(accuracy))"
   ]
  },
  {
   "cell_type": "code",
   "execution_count": 23,
   "metadata": {
    "execution": {
     "iopub.execute_input": "2023-12-16T09:16:18.924952Z",
     "iopub.status.busy": "2023-12-16T09:16:18.924632Z",
     "iopub.status.idle": "2023-12-16T09:17:11.11167Z",
     "shell.execute_reply": "2023-12-16T09:17:11.110598Z",
     "shell.execute_reply.started": "2023-12-16T09:16:18.924924Z"
    }
   },
   "outputs": [
    {
     "name": "stdout",
     "output_type": "stream",
     "text": [
      "1250/1250 [==============================] - 2s 2ms/step\n",
      "313/313 [==============================] - 1s 2ms/step\n"
     ]
    },
    {
     "data": {
      "image/png": "[encoded data removed]",
      "text/plain": [
       "<Figure size 864x360 with 2 Axes>"
      ]
     },
     "metadata": {
      "needs_background": "light"
     },
     "output_type": "display_data"
    },
    {
     "name": "stdout",
     "output_type": "stream",
     "text": [
      "Training F1 Score: 0.9721\n",
      "Testing F1 Score: 0.8598\n"
     ]
    }
   ],
   "source": [
    "# Model evaluation\n",
    "from sklearn.metrics import confusion_matrix, f1_score\n",
    "import seaborn as sns\n",
    "import matplotlib.pyplot as plt\n",
    "y_train_pred = (model.predict(X_train_pad) > 0.5).astype(\"int32\")\n",
    "y_test_pred = (model.predict(X_test_pad) > 0.5).astype(\"int32\")\n",
    "\n",
    "# Confusion Matrix\n",
    "conf_matrix_train = confusion_matrix(y_train_encoded, y_train_pred)\n",
    "conf_matrix_test = confusion_matrix(y_test_encoded, y_test_pred)\n",
    "\n",
    "# F1 Score\n",
    "f1_train = f1_score(y_train_encoded, y_train_pred)\n",
    "f1_test = f1_score(y_test_encoded, y_test_pred)\n",
    "\n",
    "# Plot Confusion Matrix\n",
    "fig, axes = plt.subplots(1, 2, figsize=(12, 5))\n",
    "\n",
    "# Training Set\n",
    "sns.heatmap(conf_matrix_train, annot=True, fmt='d', cmap='Blues', cbar=False, ax=axes[0])\n",
    "axes[0].set_title('Training Set Confusion Matrix')\n",
    "axes[0].set_xlabel('Predicted Label')\n",
    "axes[0].set_ylabel('True Label')\n",
    "\n",
    "# Testing Set\n",
    "sns.heatmap(conf_matrix_test, annot=True, fmt='d', cmap='Blues', cbar=False, ax=axes[1])\n",
    "axes[1].set_title('Testing Set Confusion Matrix')\n",
    "axes[1].set_xlabel('Predicted Label')\n",
    "axes[1].set_ylabel('True Label')\n",
    "\n",
    "plt.show()\n",
    "\n",
    "# Print F1 Score\n",
    "print(\"Training F1 Score: {:.4f}\".format(f1_train))\n",
    "print(\"Testing F1 Score: {:.4f}\".format(f1_test))"
   ]
  },
  {
   "cell_type": "code",
   "execution_count": 24,
   "metadata": {},
   "outputs": [
    {
     "name": "stdout",
     "output_type": "stream",
     "text": [
      "Training Precision: 0.9713\n",
      "Training Recall: 0.9728\n",
      "Testing Precision: 0.8567\n",
      "Testing Recall: 0.8629\n"
     ]
    }
   ],
   "source": [
    "from sklearn.metrics import precision_score, recall_score\n",
    "# Precision and Recall\n",
    "precision_train = precision_score(y_train_encoded, y_train_pred)\n",
    "recall_train = recall_score(y_train_encoded, y_train_pred)\n",
    "\n",
    "precision_test = precision_score(y_test_encoded, y_test_pred)\n",
    "recall_test = recall_score(y_test_encoded, y_test_pred)\n",
    "\n",
    "# Print Precision and Recall\n",
    "print(\"Training Precision: {:.4f}\".format(precision_train))\n",
    "print(\"Training Recall: {:.4f}\".format(recall_train))\n",
    "\n",
    "print(\"Testing Precision: {:.4f}\".format(precision_test))\n",
    "print(\"Testing Recall: {:.4f}\".format(recall_test))"
   ]
  },
  {
   "cell_type": "markdown",
   "metadata": {},
   "source": [
    "## LSTM Model"
   ]
  },
  {
   "cell_type": "markdown",
   "metadata": {},
   "source": [
    "## Compiling model"
   ]
  },
  {
   "cell_type": "code",
   "execution_count": 25,
   "metadata": {},
   "outputs": [
    {
     "name": "stdout",
     "output_type": "stream",
     "text": [
      "Model: \"sequential_1\"\n",
      "_________________________________________________________________\n",
      " Layer (type)                Output Shape              Param #   \n",
      "=================================================================\n",
      " embedding_1 (Embedding)     (None, 235, 100)          11228100  \n",
      "                                                                 \n",
      " lstm (LSTM)                 (None, 10)                4440      \n",
      "                                                                 \n",
      " dense_2 (Dense)             (None, 1)                 11        \n",
      "                                                                 \n",
      "=================================================================\n",
      "Total params: 11232551 (42.85 MB)\n",
      "Trainable params: 11232551 (42.85 MB)\n",
      "Non-trainable params: 0 (0.00 Byte)\n",
      "_________________________________________________________________\n"
     ]
    }
   ],
   "source": [
    "from keras.models import Sequential\n",
    "from keras import layers\n",
    "from keras.layers import LSTM, Flatten, LeakyReLU\n",
    "\n",
    "embedding_dim = 100\n",
    "\n",
    "model = Sequential()\n",
    "model.add(layers.Embedding(vocab_size, embedding_dim, weights=[embedding_matrix], input_length=val, trainable=True))\n",
    "model.add(LSTM(10, activation='relu'))\n",
    "model.add(layers.Dense(1, activation='sigmoid'))\n",
    "model.compile(optimizer='adam',\n",
    "              loss='binary_crossentropy',\n",
    "              metrics=['accuracy'])\n",
    "model.summary()"
   ]
  },
  {
   "cell_type": "markdown",
   "metadata": {},
   "source": [
    "## Model Fit"
   ]
  },
  {
   "cell_type": "code",
   "execution_count": 26,
   "metadata": {},
   "outputs": [
    {
     "name": "stdout",
     "output_type": "stream",
     "text": [
      "Epoch 1/20\n",
      "800/800 [==============================] - 108s 133ms/step - loss: 0.6765 - accuracy: 0.5512 - val_loss: 0.6302 - val_accuracy: 0.5960\n",
      "Epoch 2/20\n",
      "800/800 [==============================] - 115s 143ms/step - loss: 0.3941 - accuracy: 0.8048 - val_loss: 0.3355 - val_accuracy: 0.8601\n",
      "Epoch 3/20\n",
      "800/800 [==============================] - 82s 102ms/step - loss: 0.1857 - accuracy: 0.9315 - val_loss: 0.2694 - val_accuracy: 0.8881\n",
      "Epoch 4/20\n",
      "800/800 [==============================] - 81s 102ms/step - loss: 0.0980 - accuracy: 0.9680 - val_loss: 0.3322 - val_accuracy: 0.8723\n",
      "Epoch 5/20\n",
      "800/800 [==============================] - 81s 102ms/step - loss: 0.0471 - accuracy: 0.9862 - val_loss: 0.3587 - val_accuracy: 0.8815\n",
      "Epoch 6/20\n",
      "800/800 [==============================] - 82s 102ms/step - loss: 0.0235 - accuracy: 0.9943 - val_loss: 0.4899 - val_accuracy: 0.8746\n",
      "Epoch 7/20\n",
      "800/800 [==============================] - 82s 102ms/step - loss: 0.0147 - accuracy: 0.9967 - val_loss: 0.5045 - val_accuracy: 0.8727\n",
      "Epoch 8/20\n",
      "800/800 [==============================] - 81s 102ms/step - loss: 0.0079 - accuracy: 0.9978 - val_loss: 0.5549 - val_accuracy: 0.8711\n",
      "Epoch 9/20\n",
      "800/800 [==============================] - 81s 102ms/step - loss: 0.0053 - accuracy: 0.9988 - val_loss: 0.7071 - val_accuracy: 0.8604\n",
      "Epoch 10/20\n",
      "800/800 [==============================] - 82s 102ms/step - loss: 0.0027 - accuracy: 0.9993 - val_loss: 0.7278 - val_accuracy: 0.8694\n",
      "Epoch 11/20\n",
      "800/800 [==============================] - 83s 104ms/step - loss: 0.0011 - accuracy: 0.9998 - val_loss: 0.6960 - val_accuracy: 0.8660\n",
      "Epoch 12/20\n",
      "800/800 [==============================] - 84s 105ms/step - loss: 0.0042 - accuracy: 0.9987 - val_loss: 0.6629 - val_accuracy: 0.8658\n",
      "Epoch 13/20\n",
      "800/800 [==============================] - 86s 108ms/step - loss: 0.0035 - accuracy: 0.9991 - val_loss: 0.7074 - val_accuracy: 0.8698\n",
      "Epoch 14/20\n",
      "800/800 [==============================] - 82s 103ms/step - loss: 0.0015 - accuracy: 0.9996 - val_loss: 0.8052 - val_accuracy: 0.8698\n",
      "Epoch 15/20\n",
      "800/800 [==============================] - 82s 102ms/step - loss: 5.7244e-04 - accuracy: 0.9998 - val_loss: 1.1205 - val_accuracy: 0.8494\n",
      "Epoch 16/20\n",
      "800/800 [==============================] - 82s 103ms/step - loss: 0.0023 - accuracy: 0.9993 - val_loss: 0.9496 - val_accuracy: 0.8673\n",
      "Epoch 17/20\n",
      "800/800 [==============================] - 82s 103ms/step - loss: 0.0024 - accuracy: 0.9992 - val_loss: 0.8155 - val_accuracy: 0.8656\n",
      "Epoch 18/20\n",
      "800/800 [==============================] - 82s 103ms/step - loss: 1.1955e-04 - accuracy: 1.0000 - val_loss: 0.9558 - val_accuracy: 0.8675\n",
      "Epoch 19/20\n",
      "800/800 [==============================] - 83s 103ms/step - loss: 1.9242e-05 - accuracy: 1.0000 - val_loss: 1.0630 - val_accuracy: 0.8679\n",
      "Epoch 20/20\n",
      "800/800 [==============================] - 83s 103ms/step - loss: 8.7806e-06 - accuracy: 1.0000 - val_loss: 1.1376 - val_accuracy: 0.8665\n"
     ]
    },
    {
     "data": {
      "image/png": "[encoded data removed]",
      "text/plain": [
       "<Figure size 432x288 with 1 Axes>"
      ]
     },
     "metadata": {
      "needs_background": "light"
     },
     "output_type": "display_data"
    }
   ],
   "source": [
    "from tensorflow.keras.optimizers import Adam\n",
    "from tensorflow.keras.callbacks import EarlyStopping\n",
    "\n",
    "import matplotlib.pyplot as plt\n",
    "\n",
    "import numpy as np\n",
    "import tensorflow as tf\n",
    "from sklearn.preprocessing import LabelEncoder\n",
    "from tensorflow.keras.callbacks import EarlyStopping\n",
    "\n",
    "# Train the model\n",
    "history = model.fit(\n",
    "    X_train_pad, y_train_encoded, epochs=20, verbose=True, \n",
    "    validation_split=0.2, batch_size=40)\n",
    "    \n",
    "# Plot training history\n",
    "plt.plot(history.history['accuracy'], label='Training Accuracy')\n",
    "plt.plot(history.history['val_accuracy'], label='Validation Accuracy')\n",
    "plt.xlabel('Epoch')\n",
    "plt.ylabel('Accuracy')\n",
    "plt.legend()\n",
    "plt.show()"
   ]
  },
  {
   "cell_type": "markdown",
   "metadata": {},
   "source": [
    "## Results of LSTM Model"
   ]
  },
  {
   "cell_type": "code",
   "execution_count": 27,
   "metadata": {},
   "outputs": [
    {
     "name": "stdout",
     "output_type": "stream",
     "text": [
      "Training Accuracy: 0.9733\n",
      "Testing Accuracy:  0.8682\n"
     ]
    }
   ],
   "source": [
    "# Model evaluation\n",
    "loss, accuracy = model.evaluate(X_train_pad, y_train_encoded, verbose=False)\n",
    "print(\"Training Accuracy: {:.4f}\".format(accuracy))\n",
    "\n",
    "loss, accuracy = model.evaluate(X_test_pad, y_test_encoded, verbose=False)\n",
    "print(\"Testing Accuracy:  {:.4f}\".format(accuracy))"
   ]
  },
  {
   "cell_type": "code",
   "execution_count": 28,
   "metadata": {},
   "outputs": [
    {
     "name": "stdout",
     "output_type": "stream",
     "text": [
      "1250/1250 [==============================] - 15s 12ms/step\n",
      "313/313 [==============================] - 4s 12ms/step\n"
     ]
    },
    {
     "data": {
      "image/png": "[encoded data removed]",
      "text/plain": [
       "<Figure size 864x360 with 2 Axes>"
      ]
     },
     "metadata": {
      "needs_background": "light"
     },
     "output_type": "display_data"
    },
    {
     "name": "stdout",
     "output_type": "stream",
     "text": [
      "Training F1 Score: 0.9732\n",
      "Testing F1 Score: 0.8685\n"
     ]
    }
   ],
   "source": [
    "# Model evaluation\n",
    "from sklearn.metrics import confusion_matrix, f1_score\n",
    "import seaborn as sns\n",
    "import matplotlib.pyplot as plt\n",
    "y_train_pred = (model.predict(X_train_pad) > 0.5).astype(\"int32\")\n",
    "y_test_pred = (model.predict(X_test_pad) > 0.5).astype(\"int32\")\n",
    "\n",
    "# Confusion Matrix\n",
    "conf_matrix_train = confusion_matrix(y_train_encoded, y_train_pred)\n",
    "conf_matrix_test = confusion_matrix(y_test_encoded, y_test_pred)\n",
    "\n",
    "# F1 Score\n",
    "f1_train = f1_score(y_train_encoded, y_train_pred)\n",
    "f1_test = f1_score(y_test_encoded, y_test_pred)\n",
    "\n",
    "# Plot Confusion Matrix\n",
    "fig, axes = plt.subplots(1, 2, figsize=(12, 5))\n",
    "\n",
    "# Training Set\n",
    "sns.heatmap(conf_matrix_train, annot=True, fmt='d', cmap='Blues', cbar=False, ax=axes[0])\n",
    "axes[0].set_title('Training Set Confusion Matrix')\n",
    "axes[0].set_xlabel('Predicted Label')\n",
    "axes[0].set_ylabel('True Label')\n",
    "\n",
    "# Testing Set\n",
    "sns.heatmap(conf_matrix_test, annot=True, fmt='d', cmap='Blues', cbar=False, ax=axes[1])\n",
    "axes[1].set_title('Testing Set Confusion Matrix')\n",
    "axes[1].set_xlabel('Predicted Label')\n",
    "axes[1].set_ylabel('True Label')\n",
    "\n",
    "plt.show()\n",
    "\n",
    "# Print F1 Score\n",
    "print(\"Training F1 Score: {:.4f}\".format(f1_train))\n",
    "print(\"Testing F1 Score: {:.4f}\".format(f1_test))"
   ]
  },
  {
   "cell_type": "code",
   "execution_count": 29,
   "metadata": {},
   "outputs": [
    {
     "name": "stdout",
     "output_type": "stream",
     "text": [
      "Training Precision: 0.9748\n",
      "Training Recall: 0.9716\n",
      "Testing Precision: 0.8731\n",
      "Testing Recall: 0.8641\n"
     ]
    }
   ],
   "source": [
    "from sklearn.metrics import precision_score, recall_score\n",
    "# Precision and Recall\n",
    "precision_train = precision_score(y_train_encoded, y_train_pred)\n",
    "recall_train = recall_score(y_train_encoded, y_train_pred)\n",
    "\n",
    "precision_test = precision_score(y_test_encoded, y_test_pred)\n",
    "recall_test = recall_score(y_test_encoded, y_test_pred)\n",
    "\n",
    "# Print Precision and Recall\n",
    "print(\"Training Precision: {:.4f}\".format(precision_train))\n",
    "print(\"Training Recall: {:.4f}\".format(recall_train))\n",
    "\n",
    "print(\"Testing Precision: {:.4f}\".format(precision_test))\n",
    "print(\"Testing Recall: {:.4f}\".format(recall_test))"
   ]
  },
  {
   "cell_type": "markdown",
   "metadata": {},
   "source": [
    "## BLSTM Model"
   ]
  },
  {
   "cell_type": "markdown",
   "metadata": {},
   "source": [
    "## Model Compile"
   ]
  },
  {
   "cell_type": "code",
   "execution_count": 35,
   "metadata": {},
   "outputs": [
    {
     "name": "stdout",
     "output_type": "stream",
     "text": [
      "Model: \"sequential_4\"\n",
      "_________________________________________________________________\n",
      " Layer (type)                Output Shape              Param #   \n",
      "=================================================================\n",
      " embedding_4 (Embedding)     (None, 235, 100)          11228100  \n",
      "                                                                 \n",
      " bidirectional_2 (Bidirecti  (None, 20)                8880      \n",
      " onal)                                                           \n",
      "                                                                 \n",
      " dense_5 (Dense)             (None, 1)                 21        \n",
      "                                                                 \n",
      "=================================================================\n",
      "Total params: 11237001 (42.87 MB)\n",
      "Trainable params: 11237001 (42.87 MB)\n",
      "Non-trainable params: 0 (0.00 Byte)\n",
      "_________________________________________________________________\n"
     ]
    }
   ],
   "source": [
    "from keras.models import Sequential\n",
    "from keras import layers\n",
    "\n",
    "embedding_dim = 100\n",
    "\n",
    "model = Sequential()\n",
    "model.add(layers.Embedding(vocab_size, embedding_dim, weights=[embedding_matrix], input_length=val, trainable=True))\n",
    "model.add(layers.Bidirectional(layers.LSTM(10, activation='relu')))\n",
    "model.add(layers.Dense(1, activation='sigmoid'))\n",
    "model.compile(optimizer='adam',\n",
    "              loss='binary_crossentropy',\n",
    "              metrics=['accuracy'])\n",
    "model.summary()\n"
   ]
  },
  {
   "cell_type": "markdown",
   "metadata": {},
   "source": [
    "## Model Fit"
   ]
  },
  {
   "cell_type": "code",
   "execution_count": 36,
   "metadata": {},
   "outputs": [
    {
     "name": "stdout",
     "output_type": "stream",
     "text": [
      "Epoch 1/20\n",
      "800/800 [==============================] - 101s 124ms/step - loss: 0.6770 - accuracy: 0.5924 - val_loss: 0.5935 - val_accuracy: 0.6432\n",
      "Epoch 2/20\n",
      "800/800 [==============================] - 106s 133ms/step - loss: 0.5682 - accuracy: 0.7039 - val_loss: 0.4794 - val_accuracy: 0.7884\n",
      "Epoch 3/20\n",
      "800/800 [==============================] - 118s 147ms/step - loss: 0.4193 - accuracy: 0.8172 - val_loss: 0.4083 - val_accuracy: 0.8364\n",
      "Epoch 4/20\n",
      "800/800 [==============================] - 115s 144ms/step - loss: 0.2993 - accuracy: 0.8765 - val_loss: 0.3930 - val_accuracy: 0.8472\n",
      "Epoch 5/20\n",
      "800/800 [==============================] - 114s 143ms/step - loss: 0.3046 - accuracy: 0.8698 - val_loss: 0.4781 - val_accuracy: 0.7819\n",
      "Epoch 6/20\n",
      "800/800 [==============================] - 100s 124ms/step - loss: 0.2243 - accuracy: 0.9118 - val_loss: 0.4302 - val_accuracy: 0.8382\n",
      "Epoch 7/20\n",
      "800/800 [==============================] - 100s 125ms/step - loss: 0.1793 - accuracy: 0.9322 - val_loss: 0.5424 - val_accuracy: 0.8148\n",
      "Epoch 8/20\n",
      "800/800 [==============================] - 110s 138ms/step - loss: 0.1412 - accuracy: 0.9492 - val_loss: 0.4960 - val_accuracy: 0.8500\n",
      "Epoch 9/20\n",
      "800/800 [==============================] - 104s 131ms/step - loss: 0.0858 - accuracy: 0.9685 - val_loss: 0.5109 - val_accuracy: 0.8526\n",
      "Epoch 10/20\n",
      "800/800 [==============================] - 116s 145ms/step - loss: 0.0511 - accuracy: 0.9829 - val_loss: 0.5597 - val_accuracy: 0.8551\n",
      "Epoch 11/20\n",
      "800/800 [==============================] - 120s 150ms/step - loss: 0.0298 - accuracy: 0.9902 - val_loss: 0.6340 - val_accuracy: 0.8554\n",
      "Epoch 12/20\n",
      "800/800 [==============================] - 115s 144ms/step - loss: 0.0167 - accuracy: 0.9950 - val_loss: 0.7221 - val_accuracy: 0.8553\n",
      "Epoch 13/20\n",
      "800/800 [==============================] - 119s 149ms/step - loss: 0.0098 - accuracy: 0.9972 - val_loss: 0.7299 - val_accuracy: 0.8465\n",
      "Epoch 14/20\n",
      "800/800 [==============================] - 129s 162ms/step - loss: 0.0053 - accuracy: 0.9988 - val_loss: 0.8363 - val_accuracy: 0.8449\n",
      "Epoch 15/20\n",
      "800/800 [==============================] - 181s 227ms/step - loss: 0.0032 - accuracy: 0.9992 - val_loss: 0.9066 - val_accuracy: 0.8444\n",
      "Epoch 16/20\n",
      "800/800 [==============================] - 172s 215ms/step - loss: 0.0031 - accuracy: 0.9994 - val_loss: 0.8843 - val_accuracy: 0.8508\n",
      "Epoch 17/20\n",
      "800/800 [==============================] - 163s 204ms/step - loss: 0.0013 - accuracy: 0.9998 - val_loss: 0.8955 - val_accuracy: 0.8537\n",
      "Epoch 18/20\n",
      "800/800 [==============================] - 125s 156ms/step - loss: 7.3682e-04 - accuracy: 0.9998 - val_loss: 0.9948 - val_accuracy: 0.8495\n",
      "Epoch 19/20\n",
      "800/800 [==============================] - 152s 190ms/step - loss: 8.6313e-04 - accuracy: 0.9998 - val_loss: 0.9425 - val_accuracy: 0.8474\n",
      "Epoch 20/20\n",
      "800/800 [==============================] - 123s 154ms/step - loss: 5.1572e-04 - accuracy: 0.9999 - val_loss: 1.0232 - val_accuracy: 0.8396\n"
     ]
    },
    {
     "data": {
      "image/png": "[encoded data removed]",
      "text/plain": [
       "<Figure size 432x288 with 1 Axes>"
      ]
     },
     "metadata": {
      "needs_background": "light"
     },
     "output_type": "display_data"
    }
   ],
   "source": [
    "from tensorflow.keras.optimizers import Adam\n",
    "from tensorflow.keras.callbacks import EarlyStopping\n",
    "\n",
    "import matplotlib.pyplot as plt\n",
    "\n",
    "import numpy as np\n",
    "import tensorflow as tf\n",
    "from sklearn.preprocessing import LabelEncoder\n",
    "from tensorflow.keras.callbacks import EarlyStopping\n",
    "\n",
    "# Train the model\n",
    "history = model.fit(\n",
    "    X_train_pad, y_train_encoded, epochs=20, verbose=True, \n",
    "    validation_split=0.2, batch_size=40)\n",
    "    \n",
    "# Plot training history\n",
    "plt.plot(history.history['accuracy'], label='Training Accuracy')\n",
    "plt.plot(history.history['val_accuracy'], label='Validation Accuracy')\n",
    "plt.xlabel('Epoch')\n",
    "plt.ylabel('Accuracy')\n",
    "plt.legend()\n",
    "plt.show()"
   ]
  },
  {
   "cell_type": "markdown",
   "metadata": {},
   "source": [
    "## Results of BLSTM Model"
   ]
  },
  {
   "cell_type": "code",
   "execution_count": 37,
   "metadata": {},
   "outputs": [
    {
     "name": "stdout",
     "output_type": "stream",
     "text": [
      "Training Accuracy: 0.9678\n",
      "Testing Accuracy:  0.8407\n"
     ]
    }
   ],
   "source": [
    "# Model evaluation\n",
    "loss, accuracy = model.evaluate(X_train_pad, y_train_encoded, verbose=False)\n",
    "print(\"Training Accuracy: {:.4f}\".format(accuracy))\n",
    "\n",
    "loss, accuracy = model.evaluate(X_test_pad, y_test_encoded, verbose=False)\n",
    "print(\"Testing Accuracy:  {:.4f}\".format(accuracy))"
   ]
  },
  {
   "cell_type": "code",
   "execution_count": null,
   "metadata": {},
   "outputs": [],
   "source": []
  },
  {
   "cell_type": "code",
   "execution_count": 38,
   "metadata": {},
   "outputs": [
    {
     "name": "stdout",
     "output_type": "stream",
     "text": [
      "1250/1250 [==============================] - 23s 18ms/step\n",
      "313/313 [==============================] - 6s 18ms/step\n"
     ]
    },
    {
     "data": {
      "image/png": "[encoded data removed]",
      "text/plain": [
       "<Figure size 864x360 with 2 Axes>"
      ]
     },
     "metadata": {
      "needs_background": "light"
     },
     "output_type": "display_data"
    },
    {
     "name": "stdout",
     "output_type": "stream",
     "text": [
      "Training F1 Score: 0.9675\n",
      "Testing F1 Score: 0.8382\n"
     ]
    }
   ],
   "source": [
    "# Model evaluation\n",
    "from sklearn.metrics import confusion_matrix, f1_score\n",
    "import seaborn as sns\n",
    "import matplotlib.pyplot as plt\n",
    "y_train_pred = (model.predict(X_train_pad) > 0.5).astype(\"int32\")\n",
    "y_test_pred = (model.predict(X_test_pad) > 0.5).astype(\"int32\")\n",
    "\n",
    "# Confusion Matrix\n",
    "conf_matrix_train = confusion_matrix(y_train_encoded, y_train_pred)\n",
    "conf_matrix_test = confusion_matrix(y_test_encoded, y_test_pred)\n",
    "\n",
    "# F1 Score\n",
    "f1_train = f1_score(y_train_encoded, y_train_pred)\n",
    "f1_test = f1_score(y_test_encoded, y_test_pred)\n",
    "\n",
    "# Plot Confusion Matrix\n",
    "fig, axes = plt.subplots(1, 2, figsize=(12, 5))\n",
    "\n",
    "# Training Set\n",
    "sns.heatmap(conf_matrix_train, annot=True, fmt='d', cmap='Blues', cbar=False, ax=axes[0])\n",
    "axes[0].set_title('Training Set Confusion Matrix')\n",
    "axes[0].set_xlabel('Predicted Label')\n",
    "axes[0].set_ylabel('True Label')\n",
    "\n",
    "# Testing Set\n",
    "sns.heatmap(conf_matrix_test, annot=True, fmt='d', cmap='Blues', cbar=False, ax=axes[1])\n",
    "axes[1].set_title('Testing Set Confusion Matrix')\n",
    "axes[1].set_xlabel('Predicted Label')\n",
    "axes[1].set_ylabel('True Label')\n",
    "\n",
    "plt.show()\n",
    "\n",
    "# Print F1 Score\n",
    "print(\"Training F1 Score: {:.4f}\".format(f1_train))\n",
    "print(\"Testing F1 Score: {:.4f}\".format(f1_test))"
   ]
  },
  {
   "cell_type": "code",
   "execution_count": 39,
   "metadata": {},
   "outputs": [
    {
     "name": "stdout",
     "output_type": "stream",
     "text": [
      "Training Precision: 0.9734\n",
      "Training Recall: 0.9616\n",
      "Testing Precision: 0.8587\n",
      "Testing Recall: 0.8186\n"
     ]
    }
   ],
   "source": [
    "from sklearn.metrics import precision_score, recall_score\n",
    "# Precision and Recall\n",
    "precision_train = precision_score(y_train_encoded, y_train_pred)\n",
    "recall_train = recall_score(y_train_encoded, y_train_pred)\n",
    "\n",
    "precision_test = precision_score(y_test_encoded, y_test_pred)\n",
    "recall_test = recall_score(y_test_encoded, y_test_pred)\n",
    "\n",
    "# Print Precision and Recall\n",
    "print(\"Training Precision: {:.4f}\".format(precision_train))\n",
    "print(\"Training Recall: {:.4f}\".format(recall_train))\n",
    "\n",
    "print(\"Testing Precision: {:.4f}\".format(precision_test))\n",
    "print(\"Testing Recall: {:.4f}\".format(recall_test))"
   ]
  },
  {
   "cell_type": "code",
   "execution_count": null,
   "metadata": {},
   "outputs": [],
   "source": []
  },
  {
   "cell_type": "code",
   "execution_count": null,
   "metadata": {},
   "outputs": [],
   "source": []
  },
  {
   "cell_type": "code",
   "execution_count": null,
   "metadata": {},
   "outputs": [],
   "source": []
  }
 ],
 "metadata": {
  "kaggle": {
   "accelerator": "none",
   "dataSources": [
    {
     "datasetId": 4099844,
     "sourceId": 7110547,
     "sourceType": "datasetVersion"
    },
    {
     "datasetId": 4099851,
     "sourceId": 7110556,
     "sourceType": "datasetVersion"
    }
   ],
   "dockerImageVersionId": 30615,
   "isGpuEnabled": false,
   "isInternetEnabled": true,
   "language": "python",
   "sourceType": "notebook"
  },
  "kernelspec": {
   "display_name": "Python 3 (ipykernel)",
   "language": "python",
   "name": "python3"
  },
  "language_info": {
   "codemirror_mode": {
    "name": "ipython",
    "version": 3
   },
   "file_extension": ".py",
   "mimetype": "text/x-python",
   "name": "python",
   "nbconvert_exporter": "python",
   "pygments_lexer": "ipython3",
   "version": "3.9.12"
  }
 },
 "nbformat": 4,
 "nbformat_minor": 4
}
